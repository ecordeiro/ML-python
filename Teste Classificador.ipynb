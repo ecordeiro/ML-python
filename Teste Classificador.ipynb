{
 "cells": [
  {
   "cell_type": "code",
   "execution_count": 1,
   "metadata": {},
   "outputs": [],
   "source": [
    "from sklearn import svm\n",
    "from sklearn import datasets\n",
    "import matplotlib.pyplot as plt\n",
    "from sklearn.decomposition import PCA\n",
    "from sklearn.model_selection import GridSearchCV\n",
    "from sklearn.neighbors import KNeighborsClassifier\n",
    "from sklearn.model_selection import cross_val_score"
   ]
  },
  {
   "cell_type": "code",
   "execution_count": 2,
   "metadata": {},
   "outputs": [
    {
     "data": {
      "text/plain": [
       "array([[5.1, 3.5]])"
      ]
     },
     "execution_count": 2,
     "metadata": {},
     "output_type": "execute_result"
    }
   ],
   "source": [
    "iris = datasets.load_iris()\n",
    "X = iris.data[:, :2]\n",
    "y = iris.target\n",
    "\n",
    "y[0] # classe do primeiro elemento\n",
    "X[:1, :] # primeiro elemento a classificar"
   ]
  },
  {
   "cell_type": "code",
   "execution_count": 3,
   "metadata": {},
   "outputs": [],
   "source": [
    "iteracoes = range(1, 10)"
   ]
  },
  {
   "cell_type": "code",
   "execution_count": 4,
   "metadata": {},
   "outputs": [
    {
     "name": "stdout",
     "output_type": "stream",
     "text": [
      "Accuracy: 0.73 (+/- 0.16)\n",
      "Accuracy: 0.71 (+/- 0.20)\n",
      "Accuracy: 0.74 (+/- 0.23)\n",
      "Accuracy: 0.70 (+/- 0.24)\n",
      "Accuracy: 0.75 (+/- 0.17)\n",
      "Accuracy: 0.77 (+/- 0.19)\n",
      "Accuracy: 0.78 (+/- 0.20)\n",
      "Accuracy: 0.77 (+/- 0.18)\n",
      "Accuracy: 0.79 (+/- 0.16)\n"
     ]
    }
   ],
   "source": [
    "cv_scores = []\n",
    "for k in iteracoes:\n",
    "    knn = KNeighborsClassifier(n_neighbors=k)\n",
    "    scores = cross_val_score(knn, X, y, cv=10, scoring='accuracy')\n",
    "    cv_scores.append(scores.mean())\n",
    "    print(\"Accuracy: %0.2f (+/- %0.2f)\" % (scores.mean(), scores.std() * 2))"
   ]
  },
  {
   "cell_type": "code",
   "execution_count": 5,
   "metadata": {},
   "outputs": [],
   "source": [
    "def printPlot(x, y, x_label, y_label):\n",
    "    plt.plot(x, y)\n",
    "    plt.xlabel(x_label)\n",
    "    plt.ylabel(y_label)"
   ]
  },
  {
   "cell_type": "code",
   "execution_count": 6,
   "metadata": {},
   "outputs": [
    {
     "data": {
      "image/png": "[encoded data removed]",
      "text/plain": [
       "<Figure size 432x288 with 1 Axes>"
      ]
     },
     "metadata": {},
     "output_type": "display_data"
    }
   ],
   "source": [
    "printPlot(iteracoes, cv_scores, 'Numero de vizinhos', 'Acuracia')"
   ]
  },
  {
   "cell_type": "code",
   "execution_count": 7,
   "metadata": {
    "scrolled": true
   },
   "outputs": [
    {
     "name": "stdout",
     "output_type": "stream",
     "text": [
      "Accuracy: 0.81 (+/- 0.16)\n",
      "Accuracy: 0.81 (+/- 0.16)\n",
      "Accuracy: 0.81 (+/- 0.16)\n",
      "Accuracy: 0.81 (+/- 0.16)\n",
      "Accuracy: 0.81 (+/- 0.16)\n",
      "Accuracy: 0.81 (+/- 0.15)\n",
      "Accuracy: 0.80 (+/- 0.15)\n",
      "Accuracy: 0.80 (+/- 0.15)\n",
      "Accuracy: 0.81 (+/- 0.15)\n"
     ]
    }
   ],
   "source": [
    "svm_scores = []\n",
    "for c in iteracoes:\n",
    "    clf = svm.SVC(kernel='linear', C=c)\n",
    "    scores = cross_val_score(clf, X, y, cv=10, scoring='accuracy')\n",
    "    svm_scores.append(scores.mean())\n",
    "    print(\"Accuracy: %0.2f (+/- %0.2f)\" % (scores.mean(), scores.std() * 2))"
   ]
  },
  {
   "cell_type": "code",
   "execution_count": 8,
   "metadata": {},
   "outputs": [
    {
     "data": {
      "image/png": "[encoded data removed]",
      "text/plain": [
       "<Figure size 432x288 with 1 Axes>"
      ]
     },
     "metadata": {},
     "output_type": "display_data"
    }
   ],
   "source": [
    "printPlot(iteracoes, svm_scores, 'Penalty parameter', 'Acuracia')"
   ]
  },
  {
   "cell_type": "code",
   "execution_count": 9,
   "metadata": {},
   "outputs": [
    {
     "name": "stdout",
     "output_type": "stream",
     "text": [
      "Melhor valor para o parâmetro n_neighbors: 9\n"
     ]
    }
   ],
   "source": [
    "parameters = {'n_neighbors':iteracoes}\n",
    "knn_hps = GridSearchCV(knn, parameters)\n",
    "knn_hps.fit(X, y)\n",
    "knn_hps.best_params_['n_neighbors']\n",
    "print(\"Melhor valor para o parâmetro n_neighbors: {0}\".format(knn_hps.best_params_['n_neighbors']))"
   ]
  },
  {
   "cell_type": "code",
   "execution_count": 10,
   "metadata": {},
   "outputs": [
    {
     "name": "stdout",
     "output_type": "stream",
     "text": [
      "Melhor valor para o parâmetro C: 3\n"
     ]
    }
   ],
   "source": [
    "parameters = {'C':iteracoes}\n",
    "svm_hps = GridSearchCV(clf, parameters)\n",
    "svm_hps.fit(X, y)\n",
    "svm_hps.best_params_['C']\n",
    "print(\"Melhor valor para o parâmetro C: {0}\".format(svm_hps.best_params_['C']))"
   ]
  },
  {
   "cell_type": "code",
   "execution_count": null,
   "metadata": {},
   "outputs": [],
   "source": []
  }
 ],
 "metadata": {
  "kernelspec": {
   "display_name": "Python 3",
   "language": "python",
   "name": "python3"
  },
  "language_info": {
   "codemirror_mode": {
    "name": "ipython",
    "version": 3
   },
   "file_extension": ".py",
   "mimetype": "text/x-python",
   "name": "python",
   "nbconvert_exporter": "python",
   "pygments_lexer": "ipython3",
   "version": "3.6.5"
  }
 },
 "nbformat": 4,
 "nbformat_minor": 2
}
