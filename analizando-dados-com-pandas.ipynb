{
 "cells": [
  {
   "cell_type": "markdown",
   "metadata": {},
   "source": [
    "# Analisando dados com Pandas"
   ]
  },
  {
   "cell_type": "markdown",
   "metadata": {},
   "source": [
    "Muitas vezes no nosso dia dia precisamos de analizar rapidamente nossos dados e gostariamos de obter algumas informações sobre eles, para ajudar na tomada de decisão, ou mesmo para o desenvolvimento de soluções. Neste momento temos de contar com algumas ferramentas para nos auxiliar neste trabalho, o pandas é uma ferramenta perfeita para este fim."
   ]
  },
  {
   "cell_type": "markdown",
   "metadata": {},
   "source": [
    "## O DataSet"
   ]
  },
  {
   "cell_type": "markdown",
   "metadata": {},
   "source": [
    "Para fins didáticos criei um dataset que representa um banco de dados de um hospital fictício, ele foi montado aleatoriamente, coletei algumas especialidades da lista especialidades médicas que pode ser encontrada [aqui](https://pt.wikipedia.org/wiki/Lista_de_especialidades_m%C3%A9dicas). \n",
    "\n",
    "\n",
    "O dataset é composto da seguinte forma:\n",
    "\n",
    "* Id - um número sequencial\n",
    "* Data - data do atendimento\n",
    "* Horário - hora do atendimento\n",
    "* Especialidade - nome da Especialidade"
   ]
  },
  {
   "cell_type": "markdown",
   "metadata": {},
   "source": [
    "## Importando os dados"
   ]
  },
  {
   "cell_type": "code",
   "execution_count": 1,
   "metadata": {},
   "outputs": [],
   "source": [
    "%matplotlib inline\n",
    "import pandas as pd"
   ]
  },
  {
   "cell_type": "markdown",
   "metadata": {},
   "source": [
    "Para iniciar temos de carregar nossos dados, neste caso vamos utilizar a função `read_csv`. Como nossos dados estão no idioma português devemos especificar o charset, para que não tenhamos problemas com os dados sendo exibidos de forma errada. Assim vamos usar o seguinte parâmetro para a função `read_csv` do pandas, `encoding='iso-8859-1'`. \n",
    "\n",
    "Além disso vamos especificar nossa coluna de data para que o pandas possa realizar um parse nesta coluna transformando-a no tipo apropriado para nosso trabalho, isso é feito por meio do parâmetro `parse_dates`, em seguida vamos informar ao pandas que nossa data inicia com o dia ao invés do mês como é comum nos EUA, isto é feito da seguinte maneira `dayfirst=True`."
   ]
  },
  {
   "cell_type": "code",
   "execution_count": 2,
   "metadata": {},
   "outputs": [],
   "source": [
    "data = pd.read_csv('dataset.csv', delimiter=';', encoding='iso-8859-1', parse_dates=['data'], dayfirst=True)"
   ]
  },
  {
   "cell_type": "markdown",
   "metadata": {},
   "source": [
    "Com nosso dataset carregado podemos então obter alguma informação sobre ele."
   ]
  },
  {
   "cell_type": "code",
   "execution_count": 3,
   "metadata": {},
   "outputs": [
    {
     "name": "stdout",
     "output_type": "stream",
     "text": [
      "<class 'pandas.core.frame.DataFrame'>\n",
      "RangeIndex: 22822 entries, 0 to 22821\n",
      "Data columns (total 4 columns):\n",
      "id               22822 non-null int64\n",
      "data             22822 non-null datetime64[ns]\n",
      "horario          22822 non-null object\n",
      "especialidade    22822 non-null object\n",
      "dtypes: datetime64[ns](1), int64(1), object(2)\n",
      "memory usage: 713.3+ KB\n"
     ]
    }
   ],
   "source": [
    "data.info()"
   ]
  },
  {
   "cell_type": "markdown",
   "metadata": {},
   "source": [
    "Podemos perceber que o dataset possui 22822 registros, agora vamos exibir um pouco de nossos dados."
   ]
  },
  {
   "cell_type": "code",
   "execution_count": 4,
   "metadata": {
    "scrolled": true
   },
   "outputs": [
    {
     "data": {
      "text/html": [
       "<div>\n",
       "<style scoped>\n",
       "    .dataframe tbody tr th:only-of-type {\n",
       "        vertical-align: middle;\n",
       "    }\n",
       "\n",
       "    .dataframe tbody tr th {\n",
       "        vertical-align: top;\n",
       "    }\n",
       "\n",
       "    .dataframe thead th {\n",
       "        text-align: right;\n",
       "    }\n",
       "</style>\n",
       "<table border=\"1\" class=\"dataframe\">\n",
       "  <thead>\n",
       "    <tr style=\"text-align: right;\">\n",
       "      <th></th>\n",
       "      <th>id</th>\n",
       "      <th>data</th>\n",
       "      <th>horario</th>\n",
       "      <th>especialidade</th>\n",
       "    </tr>\n",
       "  </thead>\n",
       "  <tbody>\n",
       "    <tr>\n",
       "      <th>0</th>\n",
       "      <td>24554</td>\n",
       "      <td>2018-06-11</td>\n",
       "      <td>11:33:51</td>\n",
       "      <td>Clínica Médica</td>\n",
       "    </tr>\n",
       "    <tr>\n",
       "      <th>1</th>\n",
       "      <td>24553</td>\n",
       "      <td>2018-06-11</td>\n",
       "      <td>11:33:27</td>\n",
       "      <td>Neurologia</td>\n",
       "    </tr>\n",
       "    <tr>\n",
       "      <th>2</th>\n",
       "      <td>24552</td>\n",
       "      <td>2018-06-11</td>\n",
       "      <td>11:33:22</td>\n",
       "      <td>Clínica Médica</td>\n",
       "    </tr>\n",
       "    <tr>\n",
       "      <th>3</th>\n",
       "      <td>24551</td>\n",
       "      <td>2018-06-11</td>\n",
       "      <td>11:17:35</td>\n",
       "      <td>Neurologia</td>\n",
       "    </tr>\n",
       "    <tr>\n",
       "      <th>4</th>\n",
       "      <td>24550</td>\n",
       "      <td>2018-06-11</td>\n",
       "      <td>11:16:47</td>\n",
       "      <td>Pediatria</td>\n",
       "    </tr>\n",
       "  </tbody>\n",
       "</table>\n",
       "</div>"
      ],
      "text/plain": [
       "      id       data   horario   especialidade\n",
       "0  24554 2018-06-11  11:33:51  Clínica Médica\n",
       "1  24553 2018-06-11  11:33:27      Neurologia\n",
       "2  24552 2018-06-11  11:33:22  Clínica Médica\n",
       "3  24551 2018-06-11  11:17:35      Neurologia\n",
       "4  24550 2018-06-11  11:16:47       Pediatria"
      ]
     },
     "execution_count": 4,
     "metadata": {},
     "output_type": "execute_result"
    }
   ],
   "source": [
    "data.head()"
   ]
  },
  {
   "cell_type": "markdown",
   "metadata": {},
   "source": [
    "## Removendo dados desnecessários"
   ]
  },
  {
   "cell_type": "markdown",
   "metadata": {},
   "source": [
    "Para este tutorial não precisaremos de todas as colunas do nosso dataset então, vamos remover algumas colunas, para isso basta agente usar o `drop`. Segundo o manual disponível [aqui](https://pandas.pydata.org/pandas-docs/stable/generated/pandas.DataFrame.drop.html), dado uma lista de labels de colunas ou rows ele irá remover do dataset.\n",
    "Devemos especificar se desejamos remover uma linha ou coluna, para isso devemos informar o parametro `axis` que pode assumir os valores 0 para index e 1 para colunas, sendo que o padrão é o 0, sendo assim para removermos as colunas que não desejamos podemos fazer o seguinte:"
   ]
  },
  {
   "cell_type": "code",
   "execution_count": 5,
   "metadata": {},
   "outputs": [
    {
     "data": {
      "text/html": [
       "<div>\n",
       "<style scoped>\n",
       "    .dataframe tbody tr th:only-of-type {\n",
       "        vertical-align: middle;\n",
       "    }\n",
       "\n",
       "    .dataframe tbody tr th {\n",
       "        vertical-align: top;\n",
       "    }\n",
       "\n",
       "    .dataframe thead th {\n",
       "        text-align: right;\n",
       "    }\n",
       "</style>\n",
       "<table border=\"1\" class=\"dataframe\">\n",
       "  <thead>\n",
       "    <tr style=\"text-align: right;\">\n",
       "      <th></th>\n",
       "      <th>id</th>\n",
       "      <th>data</th>\n",
       "      <th>especialidade</th>\n",
       "    </tr>\n",
       "  </thead>\n",
       "  <tbody>\n",
       "    <tr>\n",
       "      <th>0</th>\n",
       "      <td>24554</td>\n",
       "      <td>2018-06-11</td>\n",
       "      <td>Clínica Médica</td>\n",
       "    </tr>\n",
       "    <tr>\n",
       "      <th>1</th>\n",
       "      <td>24553</td>\n",
       "      <td>2018-06-11</td>\n",
       "      <td>Neurologia</td>\n",
       "    </tr>\n",
       "    <tr>\n",
       "      <th>2</th>\n",
       "      <td>24552</td>\n",
       "      <td>2018-06-11</td>\n",
       "      <td>Clínica Médica</td>\n",
       "    </tr>\n",
       "    <tr>\n",
       "      <th>3</th>\n",
       "      <td>24551</td>\n",
       "      <td>2018-06-11</td>\n",
       "      <td>Neurologia</td>\n",
       "    </tr>\n",
       "    <tr>\n",
       "      <th>4</th>\n",
       "      <td>24550</td>\n",
       "      <td>2018-06-11</td>\n",
       "      <td>Pediatria</td>\n",
       "    </tr>\n",
       "  </tbody>\n",
       "</table>\n",
       "</div>"
      ],
      "text/plain": [
       "      id       data   especialidade\n",
       "0  24554 2018-06-11  Clínica Médica\n",
       "1  24553 2018-06-11      Neurologia\n",
       "2  24552 2018-06-11  Clínica Médica\n",
       "3  24551 2018-06-11      Neurologia\n",
       "4  24550 2018-06-11       Pediatria"
      ]
     },
     "execution_count": 5,
     "metadata": {},
     "output_type": "execute_result"
    }
   ],
   "source": [
    "data = data.drop([\"horario\"], axis=1)\n",
    "data.head()"
   ]
  },
  {
   "cell_type": "markdown",
   "metadata": {},
   "source": [
    "## Conhecendo as especialidades"
   ]
  },
  {
   "cell_type": "markdown",
   "metadata": {},
   "source": [
    "Muito bem temos nosso dataset pronto para iniciarmos nosso estudo.\n",
    "\n",
    "Vamos exibir quais especialidades temos no nosso dataset, para isso faremos o seguinte:"
   ]
  },
  {
   "cell_type": "code",
   "execution_count": 6,
   "metadata": {},
   "outputs": [
    {
     "data": {
      "text/html": [
       "<div>\n",
       "<style scoped>\n",
       "    .dataframe tbody tr th:only-of-type {\n",
       "        vertical-align: middle;\n",
       "    }\n",
       "\n",
       "    .dataframe tbody tr th {\n",
       "        vertical-align: top;\n",
       "    }\n",
       "\n",
       "    .dataframe thead th {\n",
       "        text-align: right;\n",
       "    }\n",
       "</style>\n",
       "<table border=\"1\" class=\"dataframe\">\n",
       "  <thead>\n",
       "    <tr style=\"text-align: right;\">\n",
       "      <th></th>\n",
       "    </tr>\n",
       "    <tr>\n",
       "      <th>especialidade</th>\n",
       "    </tr>\n",
       "  </thead>\n",
       "  <tbody>\n",
       "    <tr>\n",
       "      <th>Cardiologista</th>\n",
       "    </tr>\n",
       "    <tr>\n",
       "      <th>Clínica Médica</th>\n",
       "    </tr>\n",
       "    <tr>\n",
       "      <th>Dermatologista</th>\n",
       "    </tr>\n",
       "    <tr>\n",
       "      <th>Ecocardiografia</th>\n",
       "    </tr>\n",
       "    <tr>\n",
       "      <th>Ecografia</th>\n",
       "    </tr>\n",
       "    <tr>\n",
       "      <th>Ginecologista</th>\n",
       "    </tr>\n",
       "    <tr>\n",
       "      <th>Mamografia</th>\n",
       "    </tr>\n",
       "    <tr>\n",
       "      <th>Neurologia</th>\n",
       "    </tr>\n",
       "    <tr>\n",
       "      <th>Oftalmologista</th>\n",
       "    </tr>\n",
       "    <tr>\n",
       "      <th>Ortopedia</th>\n",
       "    </tr>\n",
       "    <tr>\n",
       "      <th>Ortopedista</th>\n",
       "    </tr>\n",
       "    <tr>\n",
       "      <th>Pediatria</th>\n",
       "    </tr>\n",
       "    <tr>\n",
       "      <th>Psiquiatria</th>\n",
       "    </tr>\n",
       "    <tr>\n",
       "      <th>Radiologia</th>\n",
       "    </tr>\n",
       "    <tr>\n",
       "      <th>Urologia</th>\n",
       "    </tr>\n",
       "  </tbody>\n",
       "</table>\n",
       "</div>"
      ],
      "text/plain": [
       "Empty DataFrame\n",
       "Columns: []\n",
       "Index: [Cardiologista, Clínica Médica, Dermatologista, Ecocardiografia, Ecografia, Ginecologista, Mamografia, Neurologia, Oftalmologista, Ortopedia, Ortopedista, Pediatria, Psiquiatria, Radiologia, Urologia]"
      ]
     },
     "execution_count": 6,
     "metadata": {},
     "output_type": "execute_result"
    }
   ],
   "source": [
    "especialidades = data[['especialidade']].drop_duplicates().sort_values('especialidade').set_index('especialidade')\n",
    "especialidades"
   ]
  },
  {
   "cell_type": "markdown",
   "metadata": {},
   "source": [
    "O que acabamos de fazer foi o seguinte: por meio do `fancy indexing` (Indexação sofisticada em tradução livre :P) obtivemos todas as nossas especialidades, como temos várias especialidades repetidas chamamos a função `drop_duplicates()` para remover os registros duplicados  e em seguida ordenamos o resultados, por fim neste caso apenas para uma melhor representação dos dados definimos a coluna especialidade como indice, experimente remover a função `set_index('especialidade')` para ver como fica o resultado."
   ]
  },
  {
   "cell_type": "markdown",
   "metadata": {},
   "source": [
    "Agora digamos que desejamos exibir apenas os 5 primeiros itens podemos então, fazer o seguinte:"
   ]
  },
  {
   "cell_type": "code",
   "execution_count": 7,
   "metadata": {},
   "outputs": [
    {
     "data": {
      "text/html": [
       "<div>\n",
       "<style scoped>\n",
       "    .dataframe tbody tr th:only-of-type {\n",
       "        vertical-align: middle;\n",
       "    }\n",
       "\n",
       "    .dataframe tbody tr th {\n",
       "        vertical-align: top;\n",
       "    }\n",
       "\n",
       "    .dataframe thead th {\n",
       "        text-align: right;\n",
       "    }\n",
       "</style>\n",
       "<table border=\"1\" class=\"dataframe\">\n",
       "  <thead>\n",
       "    <tr style=\"text-align: right;\">\n",
       "      <th></th>\n",
       "    </tr>\n",
       "    <tr>\n",
       "      <th>especialidade</th>\n",
       "    </tr>\n",
       "  </thead>\n",
       "  <tbody>\n",
       "    <tr>\n",
       "      <th>Cardiologista</th>\n",
       "    </tr>\n",
       "    <tr>\n",
       "      <th>Clínica Médica</th>\n",
       "    </tr>\n",
       "    <tr>\n",
       "      <th>Dermatologista</th>\n",
       "    </tr>\n",
       "    <tr>\n",
       "      <th>Ecocardiografia</th>\n",
       "    </tr>\n",
       "    <tr>\n",
       "      <th>Ecografia</th>\n",
       "    </tr>\n",
       "  </tbody>\n",
       "</table>\n",
       "</div>"
      ],
      "text/plain": [
       "Empty DataFrame\n",
       "Columns: []\n",
       "Index: [Cardiologista, Clínica Médica, Dermatologista, Ecocardiografia, Ecografia]"
      ]
     },
     "execution_count": 7,
     "metadata": {},
     "output_type": "execute_result"
    }
   ],
   "source": [
    "especialidades[:5]"
   ]
  },
  {
   "cell_type": "markdown",
   "metadata": {},
   "source": [
    "Da mesma forma podemos utilizar a função `head` e informar a quantidade desejada de itens. Ou seja esta função retorna as `n` primeiras linhas do nosso dataset."
   ]
  },
  {
   "cell_type": "code",
   "execution_count": 8,
   "metadata": {},
   "outputs": [
    {
     "data": {
      "text/html": [
       "<div>\n",
       "<style scoped>\n",
       "    .dataframe tbody tr th:only-of-type {\n",
       "        vertical-align: middle;\n",
       "    }\n",
       "\n",
       "    .dataframe tbody tr th {\n",
       "        vertical-align: top;\n",
       "    }\n",
       "\n",
       "    .dataframe thead th {\n",
       "        text-align: right;\n",
       "    }\n",
       "</style>\n",
       "<table border=\"1\" class=\"dataframe\">\n",
       "  <thead>\n",
       "    <tr style=\"text-align: right;\">\n",
       "      <th></th>\n",
       "    </tr>\n",
       "    <tr>\n",
       "      <th>especialidade</th>\n",
       "    </tr>\n",
       "  </thead>\n",
       "  <tbody>\n",
       "    <tr>\n",
       "      <th>Cardiologista</th>\n",
       "    </tr>\n",
       "    <tr>\n",
       "      <th>Clínica Médica</th>\n",
       "    </tr>\n",
       "    <tr>\n",
       "      <th>Dermatologista</th>\n",
       "    </tr>\n",
       "    <tr>\n",
       "      <th>Ecocardiografia</th>\n",
       "    </tr>\n",
       "    <tr>\n",
       "      <th>Ecografia</th>\n",
       "    </tr>\n",
       "  </tbody>\n",
       "</table>\n",
       "</div>"
      ],
      "text/plain": [
       "Empty DataFrame\n",
       "Columns: []\n",
       "Index: [Cardiologista, Clínica Médica, Dermatologista, Ecocardiografia, Ecografia]"
      ]
     },
     "execution_count": 8,
     "metadata": {},
     "output_type": "execute_result"
    }
   ],
   "source": [
    "especialidades.head(5)"
   ]
  },
  {
   "cell_type": "markdown",
   "metadata": {},
   "source": [
    "## Extraindo informações"
   ]
  },
  {
   "cell_type": "markdown",
   "metadata": {},
   "source": [
    "Agora que sabemos quais especialidades temos, vamos contar quantos registros temos em cada especialidade, para isso precisamos agrupar nossos dados pela especialidade e em seguida informar quais campos queremos contar."
   ]
  },
  {
   "cell_type": "code",
   "execution_count": 9,
   "metadata": {},
   "outputs": [
    {
     "data": {
      "text/plain": [
       "especialidade\n",
       "Cardiologista          2\n",
       "Clínica Médica     14416\n",
       "Dermatologista         6\n",
       "Ecocardiografia        2\n",
       "Ecografia              1\n",
       "Ginecologista          2\n",
       "Mamografia             1\n",
       "Neurologia           575\n",
       "Oftalmologista         1\n",
       "Ortopedia           3442\n",
       "Ortopedista            1\n",
       "Pediatria           2210\n",
       "Psiquiatria         1338\n",
       "Radiologia           821\n",
       "Urologia               4\n",
       "Name: especialidade, dtype: int64"
      ]
     },
     "execution_count": 9,
     "metadata": {},
     "output_type": "execute_result"
    }
   ],
   "source": [
    "data.groupby(['especialidade']).especialidade.count()"
   ]
  },
  {
   "cell_type": "markdown",
   "metadata": {},
   "source": [
    "Uma outra maneira e mais simples de conseguirmos o mesmo resultado seria apenas apontarmos a coluna que desejamos  em seguida chamarmos a função `value_counts()`, como podemos ver a seguir "
   ]
  },
  {
   "cell_type": "code",
   "execution_count": 10,
   "metadata": {},
   "outputs": [
    {
     "data": {
      "text/plain": [
       "Clínica Médica     14416\n",
       "Ortopedia           3442\n",
       "Pediatria           2210\n",
       "Psiquiatria         1338\n",
       "Radiologia           821\n",
       "Neurologia           575\n",
       "Dermatologista         6\n",
       "Urologia               4\n",
       "Cardiologista          2\n",
       "Ginecologista          2\n",
       "Ecocardiografia        2\n",
       "Ortopedista            1\n",
       "Ecografia              1\n",
       "Oftalmologista         1\n",
       "Mamografia             1\n",
       "Name: especialidade, dtype: int64"
      ]
     },
     "execution_count": 10,
     "metadata": {},
     "output_type": "execute_result"
    }
   ],
   "source": [
    "data.especialidade.value_counts()"
   ]
  },
  {
   "cell_type": "markdown",
   "metadata": {},
   "source": [
    "Se observarmos ao executar o código anterior recebemos um objeto do tipo Series."
   ]
  },
  {
   "cell_type": "code",
   "execution_count": 11,
   "metadata": {},
   "outputs": [
    {
     "data": {
      "text/plain": [
       "pandas.core.series.Series"
      ]
     },
     "execution_count": 11,
     "metadata": {},
     "output_type": "execute_result"
    }
   ],
   "source": [
    "type(data.especialidade.value_counts())"
   ]
  },
  {
   "cell_type": "markdown",
   "metadata": {},
   "source": [
    "Como  então obtermos o mesmo resultado mas desta vez recebendo um objeto do tipo DataFrame? para isso basta adicionarmos a função `reset_index()` ela nos retornará um objeto DataFrame, aproveito para renomear as colunas"
   ]
  },
  {
   "cell_type": "code",
   "execution_count": 12,
   "metadata": {},
   "outputs": [
    {
     "data": {
      "text/html": [
       "<div>\n",
       "<style scoped>\n",
       "    .dataframe tbody tr th:only-of-type {\n",
       "        vertical-align: middle;\n",
       "    }\n",
       "\n",
       "    .dataframe tbody tr th {\n",
       "        vertical-align: top;\n",
       "    }\n",
       "\n",
       "    .dataframe thead th {\n",
       "        text-align: right;\n",
       "    }\n",
       "</style>\n",
       "<table border=\"1\" class=\"dataframe\">\n",
       "  <thead>\n",
       "    <tr style=\"text-align: right;\">\n",
       "      <th></th>\n",
       "      <th>Especialidade</th>\n",
       "      <th>Total</th>\n",
       "    </tr>\n",
       "  </thead>\n",
       "  <tbody>\n",
       "    <tr>\n",
       "      <th>0</th>\n",
       "      <td>Clínica Médica</td>\n",
       "      <td>14416</td>\n",
       "    </tr>\n",
       "    <tr>\n",
       "      <th>1</th>\n",
       "      <td>Ortopedia</td>\n",
       "      <td>3442</td>\n",
       "    </tr>\n",
       "    <tr>\n",
       "      <th>2</th>\n",
       "      <td>Pediatria</td>\n",
       "      <td>2210</td>\n",
       "    </tr>\n",
       "    <tr>\n",
       "      <th>3</th>\n",
       "      <td>Psiquiatria</td>\n",
       "      <td>1338</td>\n",
       "    </tr>\n",
       "    <tr>\n",
       "      <th>4</th>\n",
       "      <td>Radiologia</td>\n",
       "      <td>821</td>\n",
       "    </tr>\n",
       "    <tr>\n",
       "      <th>5</th>\n",
       "      <td>Neurologia</td>\n",
       "      <td>575</td>\n",
       "    </tr>\n",
       "    <tr>\n",
       "      <th>6</th>\n",
       "      <td>Dermatologista</td>\n",
       "      <td>6</td>\n",
       "    </tr>\n",
       "    <tr>\n",
       "      <th>7</th>\n",
       "      <td>Urologia</td>\n",
       "      <td>4</td>\n",
       "    </tr>\n",
       "    <tr>\n",
       "      <th>8</th>\n",
       "      <td>Cardiologista</td>\n",
       "      <td>2</td>\n",
       "    </tr>\n",
       "    <tr>\n",
       "      <th>9</th>\n",
       "      <td>Ginecologista</td>\n",
       "      <td>2</td>\n",
       "    </tr>\n",
       "    <tr>\n",
       "      <th>10</th>\n",
       "      <td>Ecocardiografia</td>\n",
       "      <td>2</td>\n",
       "    </tr>\n",
       "    <tr>\n",
       "      <th>11</th>\n",
       "      <td>Ortopedista</td>\n",
       "      <td>1</td>\n",
       "    </tr>\n",
       "    <tr>\n",
       "      <th>12</th>\n",
       "      <td>Ecografia</td>\n",
       "      <td>1</td>\n",
       "    </tr>\n",
       "    <tr>\n",
       "      <th>13</th>\n",
       "      <td>Oftalmologista</td>\n",
       "      <td>1</td>\n",
       "    </tr>\n",
       "    <tr>\n",
       "      <th>14</th>\n",
       "      <td>Mamografia</td>\n",
       "      <td>1</td>\n",
       "    </tr>\n",
       "  </tbody>\n",
       "</table>\n",
       "</div>"
      ],
      "text/plain": [
       "      Especialidade  Total\n",
       "0    Clínica Médica  14416\n",
       "1         Ortopedia   3442\n",
       "2         Pediatria   2210\n",
       "3       Psiquiatria   1338\n",
       "4        Radiologia    821\n",
       "5        Neurologia    575\n",
       "6    Dermatologista      6\n",
       "7          Urologia      4\n",
       "8     Cardiologista      2\n",
       "9     Ginecologista      2\n",
       "10  Ecocardiografia      2\n",
       "11      Ortopedista      1\n",
       "12        Ecografia      1\n",
       "13   Oftalmologista      1\n",
       "14       Mamografia      1"
      ]
     },
     "execution_count": 12,
     "metadata": {},
     "output_type": "execute_result"
    }
   ],
   "source": [
    "data.especialidade.value_counts().reset_index().rename(columns={'index': 'Especialidade', 'especialidade': 'Total'})"
   ]
  },
  {
   "cell_type": "markdown",
   "metadata": {},
   "source": [
    "Muito bem, agora digamos que você deseja saber quantos atendimentos a empresa teve por ano?"
   ]
  },
  {
   "cell_type": "code",
   "execution_count": 13,
   "metadata": {},
   "outputs": [
    {
     "data": {
      "text/plain": [
       "data\n",
       "2017    13073\n",
       "2018     9749\n",
       "dtype: int64"
      ]
     },
     "execution_count": 13,
     "metadata": {},
     "output_type": "execute_result"
    }
   ],
   "source": [
    "data.groupby(data['data'].dt.year).size()"
   ]
  },
  {
   "cell_type": "markdown",
   "metadata": {},
   "source": [
    "Inicialmente obtemos a coluna data e em seguida pegamos o objeto do tipo `DatetimeProperties` para que possamos obter por sua vez o atributo `year` que nos da o ano da nossa data, para somente depois agruparmos os dados por ano e por fim obtermos o total de atendimentos por ano."
   ]
  },
  {
   "cell_type": "markdown",
   "metadata": {},
   "source": [
    "Podemos obter os dados da mesma maneira, mas agora retornarmos o objeto como um `DataFrame`"
   ]
  },
  {
   "cell_type": "code",
   "execution_count": 14,
   "metadata": {},
   "outputs": [
    {
     "data": {
      "text/html": [
       "<div>\n",
       "<style scoped>\n",
       "    .dataframe tbody tr th:only-of-type {\n",
       "        vertical-align: middle;\n",
       "    }\n",
       "\n",
       "    .dataframe tbody tr th {\n",
       "        vertical-align: top;\n",
       "    }\n",
       "\n",
       "    .dataframe thead th {\n",
       "        text-align: right;\n",
       "    }\n",
       "</style>\n",
       "<table border=\"1\" class=\"dataframe\">\n",
       "  <thead>\n",
       "    <tr style=\"text-align: right;\">\n",
       "      <th></th>\n",
       "      <th>Total</th>\n",
       "    </tr>\n",
       "    <tr>\n",
       "      <th>data</th>\n",
       "      <th></th>\n",
       "    </tr>\n",
       "  </thead>\n",
       "  <tbody>\n",
       "    <tr>\n",
       "      <th>2017</th>\n",
       "      <td>13073</td>\n",
       "    </tr>\n",
       "    <tr>\n",
       "      <th>2018</th>\n",
       "      <td>9749</td>\n",
       "    </tr>\n",
       "  </tbody>\n",
       "</table>\n",
       "</div>"
      ],
      "text/plain": [
       "      Total\n",
       "data       \n",
       "2017  13073\n",
       "2018   9749"
      ]
     },
     "execution_count": 14,
     "metadata": {},
     "output_type": "execute_result"
    }
   ],
   "source": [
    "data.groupby(data['data'].dt.year).size().reset_index().rename(columns={0: 'Total'}).set_index('data')"
   ]
  },
  {
   "cell_type": "markdown",
   "metadata": {},
   "source": [
    "Agora sabemos que no ano de 2017 tivemos `13073` atendimentos enquanto o ano de 2018 tivemos apenas `9749` totalizando `22822` registros."
   ]
  },
  {
   "cell_type": "markdown",
   "metadata": {},
   "source": [
    "Muito bem, agora e se nós desejamos saber quanto cada especialidade atendeu por ano? para isso basta agrupar os dados por ano e especialidade."
   ]
  },
  {
   "cell_type": "code",
   "execution_count": 15,
   "metadata": {},
   "outputs": [
    {
     "data": {
      "text/html": [
       "<div>\n",
       "<style scoped>\n",
       "    .dataframe tbody tr th:only-of-type {\n",
       "        vertical-align: middle;\n",
       "    }\n",
       "\n",
       "    .dataframe tbody tr th {\n",
       "        vertical-align: top;\n",
       "    }\n",
       "\n",
       "    .dataframe thead th {\n",
       "        text-align: right;\n",
       "    }\n",
       "</style>\n",
       "<table border=\"1\" class=\"dataframe\">\n",
       "  <thead>\n",
       "    <tr style=\"text-align: right;\">\n",
       "      <th></th>\n",
       "      <th></th>\n",
       "      <th>Total</th>\n",
       "    </tr>\n",
       "    <tr>\n",
       "      <th>data</th>\n",
       "      <th>especialidade</th>\n",
       "      <th></th>\n",
       "    </tr>\n",
       "  </thead>\n",
       "  <tbody>\n",
       "    <tr>\n",
       "      <th rowspan=\"14\" valign=\"top\">2017</th>\n",
       "      <th>Cardiologista</th>\n",
       "      <td>2</td>\n",
       "    </tr>\n",
       "    <tr>\n",
       "      <th>Clínica Médica</th>\n",
       "      <td>8173</td>\n",
       "    </tr>\n",
       "    <tr>\n",
       "      <th>Dermatologista</th>\n",
       "      <td>6</td>\n",
       "    </tr>\n",
       "    <tr>\n",
       "      <th>Ecocardiografia</th>\n",
       "      <td>2</td>\n",
       "    </tr>\n",
       "    <tr>\n",
       "      <th>Ecografia</th>\n",
       "      <td>1</td>\n",
       "    </tr>\n",
       "    <tr>\n",
       "      <th>Ginecologista</th>\n",
       "      <td>2</td>\n",
       "    </tr>\n",
       "    <tr>\n",
       "      <th>Mamografia</th>\n",
       "      <td>1</td>\n",
       "    </tr>\n",
       "    <tr>\n",
       "      <th>Neurologia</th>\n",
       "      <td>413</td>\n",
       "    </tr>\n",
       "    <tr>\n",
       "      <th>Oftalmologista</th>\n",
       "      <td>1</td>\n",
       "    </tr>\n",
       "    <tr>\n",
       "      <th>Ortopedia</th>\n",
       "      <td>1757</td>\n",
       "    </tr>\n",
       "    <tr>\n",
       "      <th>Ortopedista</th>\n",
       "      <td>1</td>\n",
       "    </tr>\n",
       "    <tr>\n",
       "      <th>Pediatria</th>\n",
       "      <td>1478</td>\n",
       "    </tr>\n",
       "    <tr>\n",
       "      <th>Psiquiatria</th>\n",
       "      <td>721</td>\n",
       "    </tr>\n",
       "    <tr>\n",
       "      <th>Radiologia</th>\n",
       "      <td>515</td>\n",
       "    </tr>\n",
       "    <tr>\n",
       "      <th rowspan=\"7\" valign=\"top\">2018</th>\n",
       "      <th>Clínica Médica</th>\n",
       "      <td>6243</td>\n",
       "    </tr>\n",
       "    <tr>\n",
       "      <th>Neurologia</th>\n",
       "      <td>162</td>\n",
       "    </tr>\n",
       "    <tr>\n",
       "      <th>Ortopedia</th>\n",
       "      <td>1685</td>\n",
       "    </tr>\n",
       "    <tr>\n",
       "      <th>Pediatria</th>\n",
       "      <td>732</td>\n",
       "    </tr>\n",
       "    <tr>\n",
       "      <th>Psiquiatria</th>\n",
       "      <td>617</td>\n",
       "    </tr>\n",
       "    <tr>\n",
       "      <th>Radiologia</th>\n",
       "      <td>306</td>\n",
       "    </tr>\n",
       "    <tr>\n",
       "      <th>Urologia</th>\n",
       "      <td>4</td>\n",
       "    </tr>\n",
       "  </tbody>\n",
       "</table>\n",
       "</div>"
      ],
      "text/plain": [
       "                      Total\n",
       "data especialidade         \n",
       "2017 Cardiologista        2\n",
       "     Clínica Médica    8173\n",
       "     Dermatologista       6\n",
       "     Ecocardiografia      2\n",
       "     Ecografia            1\n",
       "     Ginecologista        2\n",
       "     Mamografia           1\n",
       "     Neurologia         413\n",
       "     Oftalmologista       1\n",
       "     Ortopedia         1757\n",
       "     Ortopedista          1\n",
       "     Pediatria         1478\n",
       "     Psiquiatria        721\n",
       "     Radiologia         515\n",
       "2018 Clínica Médica    6243\n",
       "     Neurologia         162\n",
       "     Ortopedia         1685\n",
       "     Pediatria          732\n",
       "     Psiquiatria        617\n",
       "     Radiologia         306\n",
       "     Urologia             4"
      ]
     },
     "execution_count": 15,
     "metadata": {},
     "output_type": "execute_result"
    }
   ],
   "source": [
    "data.groupby([data['data'].dt.year, 'especialidade'])[['id']].count().rename(columns={'id': 'Total'})"
   ]
  },
  {
   "cell_type": "markdown",
   "metadata": {},
   "source": [
    "Assim descobrimos que nem todas as especialidades atuaram em 2018 por exemplo. Agora e se ao contrário gostariamos de saber o total de atendimento por mes e ano?"
   ]
  },
  {
   "cell_type": "code",
   "execution_count": 16,
   "metadata": {},
   "outputs": [
    {
     "data": {
      "text/html": [
       "<div>\n",
       "<style scoped>\n",
       "    .dataframe tbody tr th:only-of-type {\n",
       "        vertical-align: middle;\n",
       "    }\n",
       "\n",
       "    .dataframe tbody tr th {\n",
       "        vertical-align: top;\n",
       "    }\n",
       "\n",
       "    .dataframe thead th {\n",
       "        text-align: right;\n",
       "    }\n",
       "</style>\n",
       "<table border=\"1\" class=\"dataframe\">\n",
       "  <thead>\n",
       "    <tr style=\"text-align: right;\">\n",
       "      <th></th>\n",
       "      <th></th>\n",
       "      <th>Total</th>\n",
       "    </tr>\n",
       "    <tr>\n",
       "      <th>data</th>\n",
       "      <th>data</th>\n",
       "      <th></th>\n",
       "    </tr>\n",
       "  </thead>\n",
       "  <tbody>\n",
       "    <tr>\n",
       "      <th rowspan=\"10\" valign=\"top\">2017</th>\n",
       "      <th>3</th>\n",
       "      <td>533</td>\n",
       "    </tr>\n",
       "    <tr>\n",
       "      <th>4</th>\n",
       "      <td>1165</td>\n",
       "    </tr>\n",
       "    <tr>\n",
       "      <th>5</th>\n",
       "      <td>20</td>\n",
       "    </tr>\n",
       "    <tr>\n",
       "      <th>6</th>\n",
       "      <td>1595</td>\n",
       "    </tr>\n",
       "    <tr>\n",
       "      <th>7</th>\n",
       "      <td>1709</td>\n",
       "    </tr>\n",
       "    <tr>\n",
       "      <th>8</th>\n",
       "      <td>1907</td>\n",
       "    </tr>\n",
       "    <tr>\n",
       "      <th>9</th>\n",
       "      <td>1820</td>\n",
       "    </tr>\n",
       "    <tr>\n",
       "      <th>10</th>\n",
       "      <td>1673</td>\n",
       "    </tr>\n",
       "    <tr>\n",
       "      <th>11</th>\n",
       "      <td>1449</td>\n",
       "    </tr>\n",
       "    <tr>\n",
       "      <th>12</th>\n",
       "      <td>1202</td>\n",
       "    </tr>\n",
       "    <tr>\n",
       "      <th rowspan=\"6\" valign=\"top\">2018</th>\n",
       "      <th>1</th>\n",
       "      <td>1363</td>\n",
       "    </tr>\n",
       "    <tr>\n",
       "      <th>2</th>\n",
       "      <td>605</td>\n",
       "    </tr>\n",
       "    <tr>\n",
       "      <th>3</th>\n",
       "      <td>1557</td>\n",
       "    </tr>\n",
       "    <tr>\n",
       "      <th>4</th>\n",
       "      <td>2742</td>\n",
       "    </tr>\n",
       "    <tr>\n",
       "      <th>5</th>\n",
       "      <td>2802</td>\n",
       "    </tr>\n",
       "    <tr>\n",
       "      <th>6</th>\n",
       "      <td>680</td>\n",
       "    </tr>\n",
       "  </tbody>\n",
       "</table>\n",
       "</div>"
      ],
      "text/plain": [
       "           Total\n",
       "data data       \n",
       "2017 3       533\n",
       "     4      1165\n",
       "     5        20\n",
       "     6      1595\n",
       "     7      1709\n",
       "     8      1907\n",
       "     9      1820\n",
       "     10     1673\n",
       "     11     1449\n",
       "     12     1202\n",
       "2018 1      1363\n",
       "     2       605\n",
       "     3      1557\n",
       "     4      2742\n",
       "     5      2802\n",
       "     6       680"
      ]
     },
     "execution_count": 16,
     "metadata": {},
     "output_type": "execute_result"
    }
   ],
   "source": [
    "data.groupby([data['data'].dt.year, data['data'].dt.month])[['id']].count().rename(columns={'id': 'Total'})"
   ]
  },
  {
   "cell_type": "markdown",
   "metadata": {},
   "source": [
    "Para finalizar vamos agrupar todos, ano, mes e especialidade."
   ]
  },
  {
   "cell_type": "markdown",
   "metadata": {},
   "source": [
    "Normalmente o pandas mostra várias linhas, porém para ficar uma imagem melhor de ser exibida limitei os registro da seguinte manera:"
   ]
  },
  {
   "cell_type": "code",
   "execution_count": 17,
   "metadata": {},
   "outputs": [],
   "source": [
    "pd.set_option(\"display.max_rows\",10)"
   ]
  },
  {
   "cell_type": "code",
   "execution_count": 18,
   "metadata": {},
   "outputs": [
    {
     "data": {
      "text/html": [
       "<div>\n",
       "<style scoped>\n",
       "    .dataframe tbody tr th:only-of-type {\n",
       "        vertical-align: middle;\n",
       "    }\n",
       "\n",
       "    .dataframe tbody tr th {\n",
       "        vertical-align: top;\n",
       "    }\n",
       "\n",
       "    .dataframe thead th {\n",
       "        text-align: right;\n",
       "    }\n",
       "</style>\n",
       "<table border=\"1\" class=\"dataframe\">\n",
       "  <thead>\n",
       "    <tr style=\"text-align: right;\">\n",
       "      <th></th>\n",
       "      <th></th>\n",
       "      <th></th>\n",
       "      <th>Total</th>\n",
       "    </tr>\n",
       "    <tr>\n",
       "      <th>data</th>\n",
       "      <th>data</th>\n",
       "      <th>especialidade</th>\n",
       "      <th></th>\n",
       "    </tr>\n",
       "  </thead>\n",
       "  <tbody>\n",
       "    <tr>\n",
       "      <th rowspan=\"5\" valign=\"top\">2017</th>\n",
       "      <th rowspan=\"5\" valign=\"top\">3</th>\n",
       "      <th>Cardiologista</th>\n",
       "      <td>1</td>\n",
       "    </tr>\n",
       "    <tr>\n",
       "      <th>Clínica Médica</th>\n",
       "      <td>339</td>\n",
       "    </tr>\n",
       "    <tr>\n",
       "      <th>Dermatologista</th>\n",
       "      <td>6</td>\n",
       "    </tr>\n",
       "    <tr>\n",
       "      <th>Ecocardiografia</th>\n",
       "      <td>2</td>\n",
       "    </tr>\n",
       "    <tr>\n",
       "      <th>Ecografia</th>\n",
       "      <td>1</td>\n",
       "    </tr>\n",
       "    <tr>\n",
       "      <th>...</th>\n",
       "      <th>...</th>\n",
       "      <th>...</th>\n",
       "      <td>...</td>\n",
       "    </tr>\n",
       "    <tr>\n",
       "      <th rowspan=\"5\" valign=\"top\">2018</th>\n",
       "      <th rowspan=\"5\" valign=\"top\">6</th>\n",
       "      <th>Neurologia</th>\n",
       "      <td>33</td>\n",
       "    </tr>\n",
       "    <tr>\n",
       "      <th>Ortopedia</th>\n",
       "      <td>145</td>\n",
       "    </tr>\n",
       "    <tr>\n",
       "      <th>Pediatria</th>\n",
       "      <td>53</td>\n",
       "    </tr>\n",
       "    <tr>\n",
       "      <th>Psiquiatria</th>\n",
       "      <td>33</td>\n",
       "    </tr>\n",
       "    <tr>\n",
       "      <th>Radiologia</th>\n",
       "      <td>17</td>\n",
       "    </tr>\n",
       "  </tbody>\n",
       "</table>\n",
       "<p>101 rows × 1 columns</p>\n",
       "</div>"
      ],
      "text/plain": [
       "                           Total\n",
       "data data especialidade         \n",
       "2017 3    Cardiologista        1\n",
       "          Clínica Médica     339\n",
       "          Dermatologista       6\n",
       "          Ecocardiografia      2\n",
       "          Ecografia            1\n",
       "...                          ...\n",
       "2018 6    Neurologia          33\n",
       "          Ortopedia          145\n",
       "          Pediatria           53\n",
       "          Psiquiatria         33\n",
       "          Radiologia          17\n",
       "\n",
       "[101 rows x 1 columns]"
      ]
     },
     "execution_count": 18,
     "metadata": {},
     "output_type": "execute_result"
    }
   ],
   "source": [
    "data.groupby([data['data'].dt.year, data['data'].dt.month, 'especialidade'])[['id']].count().rename(columns={'id': 'Total'})"
   ]
  },
  {
   "cell_type": "code",
   "execution_count": null,
   "metadata": {},
   "outputs": [],
   "source": []
  }
 ],
 "metadata": {
  "kernelspec": {
   "display_name": "Python 3",
   "language": "python",
   "name": "python3"
  },
  "language_info": {
   "codemirror_mode": {
    "name": "ipython",
    "version": 2
   },
   "file_extension": ".py",
   "mimetype": "text/x-python",
   "name": "python",
   "nbconvert_exporter": "python",
   "pygments_lexer": "ipython2",
   "version": "2.7.15rc1"
  }
 },
 "nbformat": 4,
 "nbformat_minor": 2
}
