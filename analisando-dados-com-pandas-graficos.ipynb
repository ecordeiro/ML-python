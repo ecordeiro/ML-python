{
 "cells": [
  {
   "cell_type": "markdown",
   "metadata": {},
   "source": [
    "# Analisando dados com Pandas - Gráficos"
   ]
  },
  {
   "cell_type": "markdown",
   "metadata": {},
   "source": [
    "Nas últimas postagens falei de como tratar nossos dados, como agrupa-los, agora chegou o momento de trabalharmos com outro tipo de apresentação dos dados, neste caso vamos trabalhar com gráficos. Vamos importar os dados exatamente da mesma maneira que fizemos nas postagens anteriores, caso você ainda não tenha os visto eles estão [aqui](https://medium.com/@helberfernandes2000/analisando-dados-com-pandas-497faf234878) e [aqui](https://medium.com/@helberfernandes2000/analisando-dados-com-pandas-as-duas-torres-918a5fafaab8)."
   ]
  },
  {
   "cell_type": "markdown",
   "metadata": {},
   "source": [
    "## Importando os dados"
   ]
  },
  {
   "cell_type": "code",
   "execution_count": 1,
   "metadata": {},
   "outputs": [],
   "source": [
    "import pandas as pd"
   ]
  },
  {
   "cell_type": "code",
   "execution_count": 2,
   "metadata": {},
   "outputs": [],
   "source": [
    "data = pd.read_csv('dataset.csv', delimiter=';', encoding='iso-8859-1', parse_dates=['data'], dayfirst=True)"
   ]
  },
  {
   "cell_type": "code",
   "execution_count": 3,
   "metadata": {},
   "outputs": [
    {
     "data": {
      "text/html": [
       "<div>\n",
       "<style scoped>\n",
       "    .dataframe tbody tr th:only-of-type {\n",
       "        vertical-align: middle;\n",
       "    }\n",
       "\n",
       "    .dataframe tbody tr th {\n",
       "        vertical-align: top;\n",
       "    }\n",
       "\n",
       "    .dataframe thead th {\n",
       "        text-align: right;\n",
       "    }\n",
       "</style>\n",
       "<table border=\"1\" class=\"dataframe\">\n",
       "  <thead>\n",
       "    <tr style=\"text-align: right;\">\n",
       "      <th></th>\n",
       "      <th>id</th>\n",
       "      <th>data</th>\n",
       "      <th>horario</th>\n",
       "      <th>especialidade</th>\n",
       "    </tr>\n",
       "  </thead>\n",
       "  <tbody>\n",
       "    <tr>\n",
       "      <th>0</th>\n",
       "      <td>24554</td>\n",
       "      <td>2018-06-11</td>\n",
       "      <td>11:33:51</td>\n",
       "      <td>Clínica Médica</td>\n",
       "    </tr>\n",
       "    <tr>\n",
       "      <th>1</th>\n",
       "      <td>24553</td>\n",
       "      <td>2018-06-11</td>\n",
       "      <td>11:33:27</td>\n",
       "      <td>Neurologia</td>\n",
       "    </tr>\n",
       "    <tr>\n",
       "      <th>2</th>\n",
       "      <td>24552</td>\n",
       "      <td>2018-06-11</td>\n",
       "      <td>11:33:22</td>\n",
       "      <td>Clínica Médica</td>\n",
       "    </tr>\n",
       "    <tr>\n",
       "      <th>3</th>\n",
       "      <td>24551</td>\n",
       "      <td>2018-06-11</td>\n",
       "      <td>11:17:35</td>\n",
       "      <td>Neurologia</td>\n",
       "    </tr>\n",
       "    <tr>\n",
       "      <th>4</th>\n",
       "      <td>24550</td>\n",
       "      <td>2018-06-11</td>\n",
       "      <td>11:16:47</td>\n",
       "      <td>Pediatria</td>\n",
       "    </tr>\n",
       "  </tbody>\n",
       "</table>\n",
       "</div>"
      ],
      "text/plain": [
       "      id       data   horario   especialidade\n",
       "0  24554 2018-06-11  11:33:51  Clínica Médica\n",
       "1  24553 2018-06-11  11:33:27      Neurologia\n",
       "2  24552 2018-06-11  11:33:22  Clínica Médica\n",
       "3  24551 2018-06-11  11:17:35      Neurologia\n",
       "4  24550 2018-06-11  11:16:47       Pediatria"
      ]
     },
     "execution_count": 3,
     "metadata": {},
     "output_type": "execute_result"
    }
   ],
   "source": [
    "data.head()"
   ]
  },
  {
   "cell_type": "markdown",
   "metadata": {},
   "source": [
    "## Preparando os dados"
   ]
  },
  {
   "cell_type": "markdown",
   "metadata": {},
   "source": [
    "Antes de iniciarmos com os gráficos, vamos antes ver uma funcionalidade bastante útil para nosso dia a dia. Muitas vezes nós desejamos substituir algo em nossos dados como, por exemplo, neste caso vamos substituir os caracteres são `é` e `í` da palavra `Clínica Médica`, este é um exemplo simples mais server para ilustrar a necessidade, no dia a dia podemos ter necessidades mais importantes e complexas para isso podemos utilizar regex, então vamos ver como realizar este procedimento."
   ]
  },
  {
   "cell_type": "code",
   "execution_count": 4,
   "metadata": {},
   "outputs": [
    {
     "data": {
      "text/html": [
       "<div>\n",
       "<style scoped>\n",
       "    .dataframe tbody tr th:only-of-type {\n",
       "        vertical-align: middle;\n",
       "    }\n",
       "\n",
       "    .dataframe tbody tr th {\n",
       "        vertical-align: top;\n",
       "    }\n",
       "\n",
       "    .dataframe thead th {\n",
       "        text-align: right;\n",
       "    }\n",
       "</style>\n",
       "<table border=\"1\" class=\"dataframe\">\n",
       "  <thead>\n",
       "    <tr style=\"text-align: right;\">\n",
       "      <th></th>\n",
       "      <th>id</th>\n",
       "      <th>data</th>\n",
       "      <th>horario</th>\n",
       "      <th>especialidade</th>\n",
       "    </tr>\n",
       "  </thead>\n",
       "  <tbody>\n",
       "    <tr>\n",
       "      <th>0</th>\n",
       "      <td>24554</td>\n",
       "      <td>2018-06-11</td>\n",
       "      <td>11:33:51</td>\n",
       "      <td>Clinica Medica</td>\n",
       "    </tr>\n",
       "    <tr>\n",
       "      <th>1</th>\n",
       "      <td>24553</td>\n",
       "      <td>2018-06-11</td>\n",
       "      <td>11:33:27</td>\n",
       "      <td>Neurologia</td>\n",
       "    </tr>\n",
       "    <tr>\n",
       "      <th>2</th>\n",
       "      <td>24552</td>\n",
       "      <td>2018-06-11</td>\n",
       "      <td>11:33:22</td>\n",
       "      <td>Clinica Medica</td>\n",
       "    </tr>\n",
       "    <tr>\n",
       "      <th>3</th>\n",
       "      <td>24551</td>\n",
       "      <td>2018-06-11</td>\n",
       "      <td>11:17:35</td>\n",
       "      <td>Neurologia</td>\n",
       "    </tr>\n",
       "    <tr>\n",
       "      <th>4</th>\n",
       "      <td>24550</td>\n",
       "      <td>2018-06-11</td>\n",
       "      <td>11:16:47</td>\n",
       "      <td>Pediatria</td>\n",
       "    </tr>\n",
       "  </tbody>\n",
       "</table>\n",
       "</div>"
      ],
      "text/plain": [
       "      id       data   horario   especialidade\n",
       "0  24554 2018-06-11  11:33:51  Clinica Medica\n",
       "1  24553 2018-06-11  11:33:27      Neurologia\n",
       "2  24552 2018-06-11  11:33:22  Clinica Medica\n",
       "3  24551 2018-06-11  11:17:35      Neurologia\n",
       "4  24550 2018-06-11  11:16:47       Pediatria"
      ]
     },
     "execution_count": 4,
     "metadata": {},
     "output_type": "execute_result"
    }
   ],
   "source": [
    "data=data.replace({'especialidade': {u'é':'e', u'í':'i'}}, regex=True)\n",
    "data.head()"
   ]
  },
  {
   "cell_type": "markdown",
   "metadata": {},
   "source": [
    "## Gráficos"
   ]
  },
  {
   "cell_type": "markdown",
   "metadata": {},
   "source": [
    "Inicialmente queremos saber a quantidade de atendimentos por especialidades, para isso vamos agrupar os dados e em seguida criar nosso gráfico. O Pandas facilita o trabalho de criar os gráficos encapsulando a biblioteca Matplotlib. Para criar os gráficos precisamos apenas chamar a função `plot()`, por padrão o Pandas irá exibir os dados como um gráfico de linha."
   ]
  },
  {
   "cell_type": "code",
   "execution_count": 5,
   "metadata": {},
   "outputs": [
    {
     "data": {
      "text/plain": [
       "<matplotlib.axes._subplots.AxesSubplot at 0x7f50b0e99410>"
      ]
     },
     "execution_count": 5,
     "metadata": {},
     "output_type": "execute_result"
    }
   ],
   "source": [
    "data.groupby(['especialidade']).especialidade.count().plot()"
   ]
  },
  {
   "cell_type": "markdown",
   "metadata": {},
   "source": [
    "Como podemos ver na [documentação](https://pandas.pydata.org/pandas-docs/stable/generated/pandas.DataFrame.plot.html) ele possue os seguintes tipos de gráficos:\n",
    "* ‘line’ : line plot (default)\n",
    "* ‘bar’ : vertical bar plot\n",
    "* ‘barh’ : horizontal bar plot\n",
    "* ‘hist’ : histogram\n",
    "* ‘box’ : boxplot\n",
    "* ‘kde’ : Kernel Density Estimation plot\n",
    "* ‘density’ : same as ‘kde’\n",
    "* ‘area’ : area plot\n",
    "* ‘pie’ : pie plot\n",
    "* ‘scatter’ : scatter plot\n",
    "* ‘hexbin’ : hexbin plot"
   ]
  },
  {
   "cell_type": "markdown",
   "metadata": {},
   "source": [
    "Então se desejamos ver nosso resultado anterior como um gráfico de barras, por exemplo, só precisamos informar o tipo, como o comando a seguir:"
   ]
  },
  {
   "cell_type": "code",
   "execution_count": 6,
   "metadata": {},
   "outputs": [
    {
     "data": {
      "text/plain": [
       "<matplotlib.axes._subplots.AxesSubplot at 0x7f50aec69510>"
      ]
     },
     "execution_count": 6,
     "metadata": {},
     "output_type": "execute_result"
    },
    {
     "data": {
      "image/png": "[encoded data removed]",
      "text/plain": [
       "<Figure size 432x288 with 1 Axes>"
      ]
     },
     "metadata": {
      "needs_background": "light"
     },
     "output_type": "display_data"
    }
   ],
   "source": [
    "data.groupby(['especialidade']).especialidade.count().sort_values()[-5:].plot(kind='bar')"
   ]
  },
  {
   "cell_type": "markdown",
   "metadata": {},
   "source": [
    "Exibi os últimos 5 resultados depois de ordenar e podemos perceber que o maior tipo de atendimento de nosso hospital seria o de clínica médica, agora em termos percentuais qual é o percentual dos outros tipos de atendimentos, eles correspondem juntos a quantos porcento do atendimento do hospital? Para descobrir podemos fazer o seguinte."
   ]
  },
  {
   "cell_type": "code",
   "execution_count": 7,
   "metadata": {},
   "outputs": [
    {
     "data": {
      "text/html": [
       "<div>\n",
       "<style scoped>\n",
       "    .dataframe tbody tr th:only-of-type {\n",
       "        vertical-align: middle;\n",
       "    }\n",
       "\n",
       "    .dataframe tbody tr th {\n",
       "        vertical-align: top;\n",
       "    }\n",
       "\n",
       "    .dataframe thead th {\n",
       "        text-align: right;\n",
       "    }\n",
       "</style>\n",
       "<table border=\"1\" class=\"dataframe\">\n",
       "  <thead>\n",
       "    <tr style=\"text-align: right;\">\n",
       "      <th></th>\n",
       "      <th>Clinica Medica</th>\n",
       "      <th>Outras Especialidades</th>\n",
       "    </tr>\n",
       "    <tr>\n",
       "      <th>especialidade</th>\n",
       "      <th></th>\n",
       "      <th></th>\n",
       "    </tr>\n",
       "  </thead>\n",
       "  <tbody>\n",
       "    <tr>\n",
       "      <th>Cardiologista</th>\n",
       "      <td>0.0</td>\n",
       "      <td>2.0</td>\n",
       "    </tr>\n",
       "    <tr>\n",
       "      <th>Clinica Medica</th>\n",
       "      <td>14416.0</td>\n",
       "      <td>0.0</td>\n",
       "    </tr>\n",
       "    <tr>\n",
       "      <th>Dermatologista</th>\n",
       "      <td>0.0</td>\n",
       "      <td>6.0</td>\n",
       "    </tr>\n",
       "    <tr>\n",
       "      <th>Ecocardiografia</th>\n",
       "      <td>0.0</td>\n",
       "      <td>2.0</td>\n",
       "    </tr>\n",
       "    <tr>\n",
       "      <th>Ecografia</th>\n",
       "      <td>0.0</td>\n",
       "      <td>1.0</td>\n",
       "    </tr>\n",
       "    <tr>\n",
       "      <th>Ginecologista</th>\n",
       "      <td>0.0</td>\n",
       "      <td>2.0</td>\n",
       "    </tr>\n",
       "    <tr>\n",
       "      <th>Mamografia</th>\n",
       "      <td>0.0</td>\n",
       "      <td>1.0</td>\n",
       "    </tr>\n",
       "    <tr>\n",
       "      <th>Neurologia</th>\n",
       "      <td>0.0</td>\n",
       "      <td>575.0</td>\n",
       "    </tr>\n",
       "    <tr>\n",
       "      <th>Oftalmologista</th>\n",
       "      <td>0.0</td>\n",
       "      <td>1.0</td>\n",
       "    </tr>\n",
       "    <tr>\n",
       "      <th>Ortopedia</th>\n",
       "      <td>0.0</td>\n",
       "      <td>3442.0</td>\n",
       "    </tr>\n",
       "    <tr>\n",
       "      <th>Ortopedista</th>\n",
       "      <td>0.0</td>\n",
       "      <td>1.0</td>\n",
       "    </tr>\n",
       "    <tr>\n",
       "      <th>Pediatria</th>\n",
       "      <td>0.0</td>\n",
       "      <td>2210.0</td>\n",
       "    </tr>\n",
       "    <tr>\n",
       "      <th>Psiquiatria</th>\n",
       "      <td>0.0</td>\n",
       "      <td>1338.0</td>\n",
       "    </tr>\n",
       "    <tr>\n",
       "      <th>Radiologia</th>\n",
       "      <td>0.0</td>\n",
       "      <td>821.0</td>\n",
       "    </tr>\n",
       "    <tr>\n",
       "      <th>Urologia</th>\n",
       "      <td>0.0</td>\n",
       "      <td>4.0</td>\n",
       "    </tr>\n",
       "  </tbody>\n",
       "</table>\n",
       "</div>"
      ],
      "text/plain": [
       "                 Clinica Medica  Outras Especialidades\n",
       "especialidade                                         \n",
       "Cardiologista               0.0                    2.0\n",
       "Clinica Medica          14416.0                    0.0\n",
       "Dermatologista              0.0                    6.0\n",
       "Ecocardiografia             0.0                    2.0\n",
       "Ecografia                   0.0                    1.0\n",
       "Ginecologista               0.0                    2.0\n",
       "Mamografia                  0.0                    1.0\n",
       "Neurologia                  0.0                  575.0\n",
       "Oftalmologista              0.0                    1.0\n",
       "Ortopedia                   0.0                 3442.0\n",
       "Ortopedista                 0.0                    1.0\n",
       "Pediatria                   0.0                 2210.0\n",
       "Psiquiatria                 0.0                 1338.0\n",
       "Radiologia                  0.0                  821.0\n",
       "Urologia                    0.0                    4.0"
      ]
     },
     "execution_count": 7,
     "metadata": {},
     "output_type": "execute_result"
    }
   ],
   "source": [
    "import numpy as np\n",
    "especialidades = np.where(data['especialidade'].str.contains('Clinica Medica'), \n",
    "                          'Clinica Medica', 'Outras Especialidades')\n",
    "especialidades_group = data.groupby(['especialidade', especialidades]).size().unstack().fillna(0)\n",
    "especialidades_group"
   ]
  },
  {
   "cell_type": "code",
   "execution_count": 8,
   "metadata": {},
   "outputs": [
    {
     "data": {
      "text/plain": [
       "<matplotlib.axes._subplots.AxesSubplot at 0x7f50aec3d610>"
      ]
     },
     "execution_count": 8,
     "metadata": {},
     "output_type": "execute_result"
    },
    {
     "data": {
      "image/png": "[encoded data removed]",
      "text/plain": [
       "<Figure size 360x360 with 1 Axes>"
      ]
     },
     "metadata": {},
     "output_type": "display_data"
    }
   ],
   "source": [
    "especialidades_group.sum().plot(kind='pie', autopct='%0.2f%%',  figsize=(5, 5), label='Especialidades')"
   ]
  },
  {
   "cell_type": "markdown",
   "metadata": {},
   "source": [
    "Com o auxílio de outra biblioteca fantástica do Python o `numpy` utilizamos a função `where` para ajudar no agrupamento dos dados entre clinica média e outras especialidades, ou seja, criamos um `numpy.ndarray` com o nome de `especialidades`, onde no nosso conjunto de dados continha os nomes de outras especialidades substituirmos por `Outras Especialidades` e em seguida enviamos para o agrupamento do pandas para filtrar os dados e obtivemos o resultado mostrado quando imprimimos o `especialidades_group`."
   ]
  },
  {
   "cell_type": "markdown",
   "metadata": {},
   "source": [
    "Com tudo isso feito tudo estava pronto para criamos o gráfico assim apenas foi nescessário somar o resultado das colunas: `Clinica Médica` e `outras especialidades`, por fim invocamos a função plot com os seguintes parâmetros: `kind='pie'`, para exibir os dados como um gráfico de pizza, `autopct='%0.2f%%'`, para habilitar a função de percentual e neste caso queremos o percentual com duas casas decimais, o `figsize=(5, 5)` onde definimos o tamanho da nossa imagem e por fim, `label='Especialidades'` para especificar a label do gráfico. Adicionalmente poderíamos especificar o parâmetro `title` para definir um título para nosso gráfico."
   ]
  },
  {
   "cell_type": "markdown",
   "metadata": {},
   "source": [
    "Muito bem! Descobrimos então que as outras especialidades correspondem apenas a 36,83% enquanto a Clínica Médica corresponde ao maior percentual de nossos atendimentos, extraímos esta informação de forma rápida e não tão complexa além de podermos tratar nossos dados para outras necessidades. O panda facilita e muito este trabalho de análise e talvez para uma tomada de decisão."
   ]
  },
  {
   "cell_type": "markdown",
   "metadata": {},
   "source": [
    "## Atendimentos por ano"
   ]
  },
  {
   "cell_type": "markdown",
   "metadata": {},
   "source": [
    "Agora vamos verificar em termos percentuais os atendimentos por ano, a fim de obtermos informações do quanto estamos crescendo no ano corrente em relação ao ano anterior. Para isso vamos agruparmos os dados por ano e em seguida vamos calcular a quantidade, por fim vamos exibir o gráfico, já explicamos os parâmetros deste gráfico anteriormente."
   ]
  },
  {
   "cell_type": "code",
   "execution_count": 9,
   "metadata": {},
   "outputs": [
    {
     "data": {
      "text/plain": [
       "<matplotlib.axes._subplots.AxesSubplot at 0x7f50aebdf2d0>"
      ]
     },
     "execution_count": 9,
     "metadata": {},
     "output_type": "execute_result"
    },
    {
     "data": {
      "image/png": "[encoded data removed]",
      "text/plain": [
       "<Figure size 360x360 with 1 Axes>"
      ]
     },
     "metadata": {},
     "output_type": "display_data"
    }
   ],
   "source": [
    "total_atendimento_ano=data.groupby([data['data'].dt.year]).size()\n",
    "total_atendimento_ano.plot(kind='pie', autopct='%0.2f%%',  figsize=(5, 5), label='Especialidades', \n",
    "                           title= 'Atendimentos por Ano')"
   ]
  },
  {
   "cell_type": "markdown",
   "metadata": {},
   "source": [
    "Podemos perceber que o ano de `2017` corresponde a 57,28% de nossos atendimentos analisados, agora queremos saber quanto cada especialidade atendeu por ano."
   ]
  },
  {
   "cell_type": "markdown",
   "metadata": {},
   "source": [
    "Primeiramente vamos remover as colunas que não queremos trabalhar, depois vamos agrupar os dados por ano e especialidade e em seguida calcular os atendimentos. Vamos transformar nosso level na posição zero para coluna e finalizamos com um gráfico de barras, definimos o tamanho do gráfico de tamanho 20 por 5."
   ]
  },
  {
   "cell_type": "code",
   "execution_count": 10,
   "metadata": {
    "scrolled": true
   },
   "outputs": [
    {
     "data": {
      "text/plain": [
       "<matplotlib.axes._subplots.AxesSubplot at 0x7f50aeb30590>"
      ]
     },
     "execution_count": 10,
     "metadata": {},
     "output_type": "execute_result"
    },
    {
     "data": {
      "image/png": "[encoded data removed]",
      "text/plain": [
       "<Figure size 1440x360 with 1 Axes>"
      ]
     },
     "metadata": {
      "needs_background": "light"
     },
     "output_type": "display_data"
    }
   ],
   "source": [
    "total_atendimento_ano=data.drop(['id', 'horario'], axis=1)\n",
    "total_atendimento_ano=data.groupby([data['data'].dt.year, 'especialidade']).size()\n",
    "total_atendimento_ano = total_atendimento_ano.unstack(level=0).fillna(0)\n",
    "total_atendimento_ano.plot(kind='bar', figsize=(20, 5))"
   ]
  },
  {
   "cell_type": "markdown",
   "metadata": {},
   "source": [
    "Agora vamos agrupar os atendimentos por ano."
   ]
  },
  {
   "cell_type": "code",
   "execution_count": 11,
   "metadata": {
    "scrolled": true
   },
   "outputs": [
    {
     "data": {
      "text/plain": [
       "<matplotlib.axes._subplots.AxesSubplot at 0x7f50aeab4a90>"
      ]
     },
     "execution_count": 11,
     "metadata": {},
     "output_type": "execute_result"
    },
    {
     "data": {
      "image/png": "[encoded data removed]",
      "text/plain": [
       "<Figure size 1440x360 with 1 Axes>"
      ]
     },
     "metadata": {
      "needs_background": "light"
     },
     "output_type": "display_data"
    }
   ],
   "source": [
    "especialidades=data.drop(['id', 'horario'], axis=1)\n",
    "especialidades.groupby([data['data'].dt.year, 'especialidade']).size().unstack(1).fillna(0).plot(kind='bar',\n",
    "                                                                                                 figsize=(20,5))"
   ]
  },
  {
   "cell_type": "markdown",
   "metadata": {},
   "source": [
    "Para finalizarmos vamos obter os dados mensais por ano.\n",
    "O primeiro passo que vamos realizar é remover as colunas que não vamos utilizar, em seguida vamos agrupar os dados por ano e mês depois vamos calcular os atendimentos.\n",
    "Depois vamos renomear os meses e seguida vamos transformar o level zero em colunas e para os valores faltantes vamos definir o valor zero.\n",
    "Por fim vamos plotar os dados."
   ]
  },
  {
   "cell_type": "code",
   "execution_count": 12,
   "metadata": {},
   "outputs": [
    {
     "data": {
      "text/plain": [
       "<matplotlib.axes._subplots.AxesSubplot at 0x7f50ae9dbed0>"
      ]
     },
     "execution_count": 12,
     "metadata": {},
     "output_type": "execute_result"
    },
    {
     "data": {
      "image/png": "[encoded data removed]",
      "text/plain": [
       "<Figure size 1440x360 with 1 Axes>"
      ]
     },
     "metadata": {
      "needs_background": "light"
     },
     "output_type": "display_data"
    }
   ],
   "source": [
    "ano_mes=data.drop(['id', 'horario'], axis=1)\n",
    "ano_mes=ano_mes.groupby([data['data'].dt.year, data['data'].dt.month]).size()\n",
    "ano_mes=ano_mes.rename({1: 'Janeiro', 2: 'Fevereiro', 3: 'Maço', 4: 'Abril', 5: 'Maio', 6:'Junho', 7:'Julho', \n",
    "                        8:'Agosto', 9:'Setembro', 10:'Outubro', 11: 'Novembro', 12:'Dezembro'})\n",
    "ano_mes= ano_mes.unstack(level=0).fillna(0)\n",
    "ano_mes.plot(kind='bar', figsize=(20,5))"
   ]
  },
  {
   "cell_type": "markdown",
   "metadata": {},
   "source": [
    "Podemos perceber que no mês de abril tivemos mais atendimentos para o ano de 2018 assim como no mês de maio, porém, os meses de novembro, outubro e setembro tivemos atendimento somente no ano de 2017."
   ]
  },
  {
   "cell_type": "markdown",
   "metadata": {},
   "source": [
    "## Conclusão"
   ]
  },
  {
   "cell_type": "markdown",
   "metadata": {},
   "source": [
    "Durante estes três artigos tentei mostrar um pouco da grande capacidade do pandas para nos auxiliar na análise dos dados. Partimos de uma simples leitura dos dados até a exibição de gráficos. Espero ter ajudado a entender esta magnifica ferramenta além de ajudar no nosso dia a dia."
   ]
  },
  {
   "cell_type": "code",
   "execution_count": null,
   "metadata": {},
   "outputs": [],
   "source": []
  }
 ],
 "metadata": {
  "kernelspec": {
   "display_name": "Python 3",
   "language": "python",
   "name": "python3"
  },
  "language_info": {
   "codemirror_mode": {
    "name": "ipython",
    "version": 2
   },
   "file_extension": ".py",
   "mimetype": "text/x-python",
   "name": "python",
   "nbconvert_exporter": "python",
   "pygments_lexer": "ipython2",
   "version": "2.7.15rc1"
  }
 },
 "nbformat": 4,
 "nbformat_minor": 2
}
